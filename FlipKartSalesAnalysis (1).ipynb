{
  "nbformat": 4,
  "nbformat_minor": 0,
  "metadata": {
    "colab": {
      "provenance": []
    },
    "kernelspec": {
      "name": "python3",
      "display_name": "Python 3"
    },
    "language_info": {
      "name": "python"
    }
  },
  "cells": [
    {
      "cell_type": "code",
      "execution_count": null,
      "metadata": {
        "id": "wBcdbVG0BRf-"
      },
      "outputs": [],
      "source": [
        "import pandas as pd\n",
        "import numpy as np\n",
        "import matplotlib.pyplot as plt\n",
        "import seaborn as sns\n",
        "\n",
        "# Step 1: Load the Data\n",
        "details_df = pd.read_csv('Details.csv')\n",
        "orders_df = pd.read_csv('Orders.csv')\n",
        "\n",
        "# Step 2: Merge DataFrames (assuming 'Order ID' is a common key)\n",
        "merged_df = pd.merge(orders_df, details_df, on='Order ID', how='inner')\n"
      ]
    },
    {
      "cell_type": "code",
      "source": [
        "# Step 3: Data Cleaning and Preparation\n",
        "# Convert 'Order Date' to datetime format and handle any missing values or incorrect data types as needed\n",
        "merged_df['Order Date'] = pd.to_datetime(merged_df['Order Date'])\n",
        "\n",
        "# Creating additional time columns for analysis\n",
        "merged_df['Year'] = merged_df['Order Date'].dt.year\n",
        "merged_df['Quarter'] = merged_df['Order Date'].dt.to_period('Q')\n",
        "merged_df['Month'] = merged_df['Order Date'].dt.month_name()\n",
        "\n",
        "# Step 4: Detailed Analysis\n",
        "\n",
        "## Overall Sales and Profit Analysis\n",
        "total_sales = merged_df['Sales'].sum()\n",
        "total_profit = merged_df['Profit'].sum()\n",
        "print(f\"Total Sales: {total_sales}, Total Profit: {total_profit}\")\n",
        "\n",
        "## Sales and Profits by Category\n",
        "category_analysis = merged_df.groupby('Category').agg(Total_Sales=('Sales', 'sum'), Total_Profit=('Profit', 'sum')).reset_index()\n",
        "sns.barplot(x='Total_Sales', y='Category', data=category_analysis, palette='coolwarm')\n",
        "plt.title('Sales by Category')\n",
        "plt.show()\n",
        "\n",
        "## Quarterly Sales and Profit Trends\n",
        "quarterly_trends = merged_df.groupby(['Year', 'Quarter']).agg(Quarterly_Sales=('Sales', 'sum'), Quarterly_Profit=('Profit', 'sum')).reset_index()\n",
        "sns.lineplot(x='Quarter', y='Quarterly_Sales', data=quarterly_trends, marker='o', sort=False)\n",
        "plt.title('Quarterly Sales Trends')\n",
        "plt.xticks(rotation=45)\n",
        "\n"
      ],
      "metadata": {
        "id": "hitXmjKxG68x"
      },
      "execution_count": null,
      "outputs": []
    },
    {
      "cell_type": "code",
      "source": [
        "## Top 5 Performing Products by Sales\n",
        "top_products = merged_df.groupby('Product Name').agg(Total_Sales=('Sales', 'sum')).reset_index().sort_values(by='Total_Sales', ascending=False).head(5)\n",
        "sns.barplot(x='Total_Sales', y='Product Name', data=top_products, palette='viridis')\n",
        "plt.title('Top 5 Performing Products by Sales')\n",
        "plt.show()\n",
        "\n",
        "## Sales by Region\n",
        "region_sales = merged_df.groupby('Region').agg(Region_Sales=('Sales', 'sum')).reset_index()\n",
        "sns.barplot(x='Region_Sales', y='Region', data=region_sales, palette='plasma')\n",
        "plt.title('Sales by Region')\n",
        "plt.show()\n"
      ],
      "metadata": {
        "id": "6x-B2AB6HM8z"
      },
      "execution_count": null,
      "outputs": []
    },
    {
      "cell_type": "code",
      "source": [
        "customer_orders = merged_df.groupby('Customer ID').size().sort_values(ascending=False)\n",
        "average_spending = merged_df.groupby('Customer ID')['Sales'].mean().sort_values(ascending=False)\n",
        "\n",
        "# Display top 5 customers by order count\n",
        "print(\"Top 5 customers by order count:\")\n",
        "print(customer_orders.head(5))\n",
        "\n",
        "# Display top 5 customers by average spending\n",
        "print(\"\\nTop 5 customers by average spending:\")\n",
        "print(average_spending.head(5))\n",
        "merged_df['Profit Margin'] = merged_df['Profit'] / merged_df['Sales']\n",
        "category_profit_margin = merged_df.groupby('Category')['Profit Margin'].mean()\n",
        "\n",
        "# Plot\n",
        "sns.barplot(x=category_profit_margin.index, y=category_profit_margin.values, palette='Set2')\n",
        "plt.title('Average Profit Margin by Category')\n",
        "plt.xticks(rotation=45)\n",
        "plt.ylabel('Profit Margin')\n",
        "plt.show()\n"
      ],
      "metadata": {
        "id": "ZknhCGrUJ6jg"
      },
      "execution_count": null,
      "outputs": []
    },
    {
      "cell_type": "code",
      "source": [
        "monthly_sales = merged_df.groupby('Month')['Sales'].sum()\n",
        "months_order = ['January', 'February', 'March', 'April', 'May', 'June', 'July', 'August', 'September', 'October', 'November', 'December']\n",
        "sns.lineplot(x=months_order, y=monthly_sales.reindex(months_order))\n",
        "plt.title('Monthly Sales Trends')\n",
        "plt.xticks(rotation=45)\n",
        "plt.ylabel('Total Sales')\n",
        "plt.show()\n",
        "sub_category_sales = merged_df.groupby('Sub-Category')['Sales'].sum().sort_values(ascending=False)\n",
        "\n",
        "# Plot\n",
        "sns.barplot(x=sub_category_sales.values, y=sub_category_sales.index, palette='Spectral')\n",
        "plt.title('Sales Performance by Product Sub-Category')\n",
        "plt.xlabel('Total Sales')\n",
        "plt.show()\n"
      ],
      "metadata": {
        "id": "Y1CAcgLlJ_-4"
      },
      "execution_count": null,
      "outputs": []
    },
    {
      "cell_type": "code",
      "source": [
        "yearly_sales = merged_df.groupby('Year')['Sales'].sum()\n",
        "yearly_growth = yearly_sales.pct_change().fillna(0) * 100\n",
        "\n",
        "# Plot\n",
        "sns.barplot(x=yearly_growth.index, y=yearly_growth.values, palette='RdYlGn')\n",
        "plt.title('Year-over-Year Sales Growth')\n",
        "plt.ylabel('Growth Percentage')\n",
        "plt.show()\n"
      ],
      "metadata": {
        "id": "38MkWMTKKF7H"
      },
      "execution_count": null,
      "outputs": []
    }
  ]
}